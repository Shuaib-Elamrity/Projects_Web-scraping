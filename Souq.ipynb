{
 "cells": [
  {
   "cell_type": "code",
   "execution_count": 4,
   "metadata": {},
   "outputs": [],
   "source": [
    "import pandas as pd\n",
    "import requests\n",
    "from bs4 import BeautifulSoup\n",
    "import time\n",
    "import json"
   ]
  },
  {
   "cell_type": "code",
   "execution_count": 5,
   "metadata": {},
   "outputs": [],
   "source": [
    "names = []\n",
    "prices= []\n",
    "images = []\n",
    "urls=[]\n",
    "df_list=[]\n",
    "df_0 = []"
   ]
  },
  {
   "cell_type": "code",
   "execution_count": 6,
   "metadata": {},
   "outputs": [],
   "source": [
    " url = 'https://www.amazon.eg/s?k=apple&qid=1630719006&ref=sr_pg_'       \n",
    "    "
   ]
  },
  {
   "cell_type": "code",
   "execution_count": 8,
   "metadata": {},
   "outputs": [],
   "source": [
    "for page in range(1,7):\n",
    "    response = requests.get(url+str(page)).text\n",
    "    soup = BeautifulSoup(response , 'lxml')\n",
    "    name = soup.find_all('span' , class_='a-size-base-plus a-color-base a-text-normal')\n",
    "    price = soup.find_all('span',class_='a-price-whole')\n",
    "    image = soup.find_all('img',class_='s-image') # .get('src')\n",
    "    for i in range(len(name)):\n",
    "        names.append(name[i].text)\n",
    "        try :\n",
    "            prices.append(price[i].text)\n",
    "        except :\n",
    "            prices.append('None')\n",
    "        images.append(image[i].get('src'))    \n",
    "    \n",
    "    \n",
    "    df_list=({'name':names , 'price':prices , 'image':images})   \n",
    "    df_0.append(df_list)"
   ]
  },
  {
   "cell_type": "code",
   "execution_count": 9,
   "metadata": {},
   "outputs": [
    {
     "data": {
      "text/html": [
       "<div>\n",
       "<style scoped>\n",
       "    .dataframe tbody tr th:only-of-type {\n",
       "        vertical-align: middle;\n",
       "    }\n",
       "\n",
       "    .dataframe tbody tr th {\n",
       "        vertical-align: top;\n",
       "    }\n",
       "\n",
       "    .dataframe thead th {\n",
       "        text-align: right;\n",
       "    }\n",
       "</style>\n",
       "<table border=\"1\" class=\"dataframe\">\n",
       "  <thead>\n",
       "    <tr style=\"text-align: right;\">\n",
       "      <th></th>\n",
       "      <th>name</th>\n",
       "      <th>price</th>\n",
       "      <th>image</th>\n",
       "    </tr>\n",
       "  </thead>\n",
       "  <tbody>\n",
       "    <tr>\n",
       "      <th>0</th>\n",
       "      <td>ابل ايفون 11 مع تطبيق فيس تايم MHDM3J/A - سعة ...</td>\n",
       "      <td>11,997.‎</td>\n",
       "      <td>https://m.media-amazon.com/images/I/31uqVpHjSK...</td>\n",
       "    </tr>\n",
       "    <tr>\n",
       "      <th>1</th>\n",
       "      <td>كابل ابل 1 متر طرف USB نوع سي وطرف لايتنينج - ...</td>\n",
       "      <td>105.‎</td>\n",
       "      <td>https://m.media-amazon.com/images/I/51EvkO+fzT...</td>\n",
       "    </tr>\n",
       "    <tr>\n",
       "      <th>2</th>\n",
       "      <td>محول طاقة ابل USB-C - 20 وات - بلون ابيض</td>\n",
       "      <td>199.‎</td>\n",
       "      <td>https://m.media-amazon.com/images/I/41Jb-WCYG-...</td>\n",
       "    </tr>\n",
       "    <tr>\n",
       "      <th>3</th>\n",
       "      <td>جراب واقي شفاف من السيلكيون بتصميم فائق النحاف...</td>\n",
       "      <td>84.‎</td>\n",
       "      <td>https://m.media-amazon.com/images/I/61JUUZbWaJ...</td>\n",
       "    </tr>\n",
       "    <tr>\n",
       "      <th>4</th>\n",
       "      <td>قلم الجيل الثاني من ابل MU8F2AM/A – بلون ابيض</td>\n",
       "      <td>3,966.‎</td>\n",
       "      <td>https://m.media-amazon.com/images/I/41S3MKU9Tj...</td>\n",
       "    </tr>\n",
       "    <tr>\n",
       "      <th>...</th>\n",
       "      <td>...</td>\n",
       "      <td>...</td>\n",
       "      <td>...</td>\n",
       "    </tr>\n",
       "    <tr>\n",
       "      <th>283</th>\n",
       "      <td>ابل ايفون 12 ميني بتقنية فيس تايم - 128 جيجابا...</td>\n",
       "      <td>None</td>\n",
       "      <td>https://m.media-amazon.com/images/I/71sNNCTfMu...</td>\n",
       "    </tr>\n",
       "    <tr>\n",
       "      <th>284</th>\n",
       "      <td>موبايل ابل ايفون 12، 128 جيجابايت، ذاكرة رام 4...</td>\n",
       "      <td>None</td>\n",
       "      <td>https://m.media-amazon.com/images/I/419m914INw...</td>\n",
       "    </tr>\n",
       "    <tr>\n",
       "      <th>285</th>\n",
       "      <td>ابل ايفون 12، 128 جيجابايت، 4 جيجابايت رام، اسود</td>\n",
       "      <td>None</td>\n",
       "      <td>https://m.media-amazon.com/images/I/71fVoqRC0w...</td>\n",
       "    </tr>\n",
       "    <tr>\n",
       "      <th>286</th>\n",
       "      <td>حافظة بلاستيك بسوستة 758A H100 من ابل، مقاس اي...</td>\n",
       "      <td>None</td>\n",
       "      <td>https://m.media-amazon.com/images/I/81izJeHCZ3...</td>\n",
       "    </tr>\n",
       "    <tr>\n",
       "      <th>287</th>\n",
       "      <td>سوار رياضي لساعة ابل سيريز 6 موديل MG433ZE/A م...</td>\n",
       "      <td>None</td>\n",
       "      <td>https://m.media-amazon.com/images/I/51Gr2Y3HLv...</td>\n",
       "    </tr>\n",
       "  </tbody>\n",
       "</table>\n",
       "<p>288 rows × 3 columns</p>\n",
       "</div>"
      ],
      "text/plain": [
       "                                                  name     price  \\\n",
       "0    ابل ايفون 11 مع تطبيق فيس تايم MHDM3J/A - سعة ...  11,997.‎   \n",
       "1    كابل ابل 1 متر طرف USB نوع سي وطرف لايتنينج - ...     105.‎   \n",
       "2             محول طاقة ابل USB-C - 20 وات - بلون ابيض     199.‎   \n",
       "3    جراب واقي شفاف من السيلكيون بتصميم فائق النحاف...      84.‎   \n",
       "4        قلم الجيل الثاني من ابل MU8F2AM/A – بلون ابيض   3,966.‎   \n",
       "..                                                 ...       ...   \n",
       "283  ابل ايفون 12 ميني بتقنية فيس تايم - 128 جيجابا...      None   \n",
       "284  موبايل ابل ايفون 12، 128 جيجابايت، ذاكرة رام 4...      None   \n",
       "285   ابل ايفون 12، 128 جيجابايت، 4 جيجابايت رام، اسود      None   \n",
       "286  حافظة بلاستيك بسوستة 758A H100 من ابل، مقاس اي...      None   \n",
       "287  سوار رياضي لساعة ابل سيريز 6 موديل MG433ZE/A م...      None   \n",
       "\n",
       "                                                 image  \n",
       "0    https://m.media-amazon.com/images/I/31uqVpHjSK...  \n",
       "1    https://m.media-amazon.com/images/I/51EvkO+fzT...  \n",
       "2    https://m.media-amazon.com/images/I/41Jb-WCYG-...  \n",
       "3    https://m.media-amazon.com/images/I/61JUUZbWaJ...  \n",
       "4    https://m.media-amazon.com/images/I/41S3MKU9Tj...  \n",
       "..                                                 ...  \n",
       "283  https://m.media-amazon.com/images/I/71sNNCTfMu...  \n",
       "284  https://m.media-amazon.com/images/I/419m914INw...  \n",
       "285  https://m.media-amazon.com/images/I/71fVoqRC0w...  \n",
       "286  https://m.media-amazon.com/images/I/81izJeHCZ3...  \n",
       "287  https://m.media-amazon.com/images/I/51Gr2Y3HLv...  \n",
       "\n",
       "[288 rows x 3 columns]"
      ]
     },
     "execution_count": 9,
     "metadata": {},
     "output_type": "execute_result"
    }
   ],
   "source": [
    "df = pd.DataFrame(df_list)\n",
    "df"
   ]
  },
  {
   "cell_type": "code",
   "execution_count": 17,
   "metadata": {},
   "outputs": [],
   "source": [
    "df.to_csv('fuck_data.csv',encoding='UTF-8',index=False)"
   ]
  },
  {
   "cell_type": "code",
   "execution_count": null,
   "metadata": {},
   "outputs": [],
   "source": []
  }
 ],
 "metadata": {
  "kernelspec": {
   "display_name": "Python 3",
   "language": "python",
   "name": "python3"
  },
  "language_info": {
   "codemirror_mode": {
    "name": "ipython",
    "version": 3
   },
   "file_extension": ".py",
   "mimetype": "text/x-python",
   "name": "python",
   "nbconvert_exporter": "python",
   "pygments_lexer": "ipython3",
   "version": "3.8.5"
  }
 },
 "nbformat": 4,
 "nbformat_minor": 4
}
